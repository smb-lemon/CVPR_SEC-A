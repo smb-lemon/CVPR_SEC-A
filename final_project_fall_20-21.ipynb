{
 "cells": [
  {
   "cell_type": "markdown",
   "metadata": {},
   "source": [
    "### Import package"
   ]
  },
  {
   "cell_type": "code",
   "execution_count": 1,
   "metadata": {},
   "outputs": [],
   "source": [
    "import tensorflow as tf\n",
    "import numpy as np\n",
    "import matplotlib.pyplot as plt"
   ]
  },
  {
   "cell_type": "markdown",
   "metadata": {},
   "source": [
    "### Image Generator"
   ]
  },
  {
   "cell_type": "code",
   "execution_count": 2,
   "metadata": {},
   "outputs": [],
   "source": [
    "from tensorflow.keras.preprocessing.image import ImageDataGenerator"
   ]
  },
  {
   "cell_type": "code",
   "execution_count": 3,
   "metadata": {},
   "outputs": [],
   "source": [
    "train_datagen = ImageDataGenerator(\n",
    "    horizontal_flip = True,\n",
    "    fill_mode = 'nearest'\n",
    ")"
   ]
  },
  {
   "cell_type": "code",
   "execution_count": 4,
   "metadata": {},
   "outputs": [
    {
     "name": "stdout",
     "output_type": "stream",
     "text": [
      "Found 1027 images belonging to 2 classes.\n"
     ]
    }
   ],
   "source": [
    "train_dir = r'C:\\Users\\user\\Desktop\\lemon\\archive\\horse-or-human\\train'\n",
    "train_generator = train_datagen.flow_from_directory(\n",
    "    train_dir, # should be the directory that contains sub-dir and that contains images\n",
    "    target_size=(300,300),\n",
    "    batch_size=128,\n",
    "    class_mode='binary', # categorical\n",
    ")"
   ]
  },
  {
   "cell_type": "code",
   "execution_count": 5,
   "metadata": {},
   "outputs": [
    {
     "name": "stdout",
     "output_type": "stream",
     "text": [
      "Found 256 images belonging to 2 classes.\n"
     ]
    }
   ],
   "source": [
    "test_datagen = ImageDataGenerator(rescale=1.0/255)\n",
    "\n",
    "validation_dir = r'C:\\Users\\user\\Desktop\\lemon\\archive\\horse-or-human\\validation'\n",
    "validation_generator = test_datagen.flow_from_directory(\n",
    "    validation_dir,\n",
    "    target_size = (300,300),\n",
    "    batch_size = 32,\n",
    "    class_mode = 'binary',\n",
    ")"
   ]
  },
  {
   "cell_type": "markdown",
   "metadata": {},
   "source": [
    "### Defining a ConvNet to use complex images"
   ]
  },
  {
   "cell_type": "code",
   "execution_count": 6,
   "metadata": {},
   "outputs": [],
   "source": [
    "model = tf.keras.models.Sequential([\n",
    "    tf.keras.layers.Conv2D(16, (3,3), activation='relu', input_shape=(300,300,3)),\n",
    "    tf.keras.layers.MaxPooling2D(2,2),\n",
    "    tf.keras.layers.Conv2D(32, (3,3), activation='relu'),\n",
    "    tf.keras.layers.MaxPooling2D(2,2),\n",
    "    tf.keras.layers.Conv2D(64, (3,3), activation='relu'),\n",
    "    tf.keras.layers.MaxPooling2D(2,2),\n",
    "    tf.keras.layers.Flatten(),\n",
    "    tf.keras.layers.Dense(units=512, activation='relu'),\n",
    "    tf.keras.layers.Dense(units=1, activation='sigmoid')\n",
    "])"
   ]
  },
  {
   "cell_type": "markdown",
   "metadata": {},
   "source": [
    "### Compile "
   ]
  },
  {
   "cell_type": "code",
   "execution_count": 7,
   "metadata": {},
   "outputs": [],
   "source": [
    "from tensorflow.keras.optimizers import RMSprop\n",
    "\n",
    "model.compile(loss='binary_crossentropy',\n",
    "              optimizer=RMSprop(learning_rate=.001),\n",
    "              metrics=['acc'],\n",
    "             )"
   ]
  },
  {
   "cell_type": "markdown",
   "metadata": {},
   "source": [
    "### Fit Generator"
   ]
  },
  {
   "cell_type": "code",
   "execution_count": 8,
   "metadata": {},
   "outputs": [
    {
     "name": "stdout",
     "output_type": "stream",
     "text": [
      "WARNING:tensorflow:From <ipython-input-8-d5b40523c7a5>:6: Model.fit_generator (from tensorflow.python.keras.engine.training) is deprecated and will be removed in a future version.\n",
      "Instructions for updating:\n",
      "Please use Model.fit, which supports generators.\n",
      "WARNING:tensorflow:sample_weight modes were coerced from\n",
      "  ...\n",
      "    to  \n",
      "  ['...']\n",
      "WARNING:tensorflow:sample_weight modes were coerced from\n",
      "  ...\n",
      "    to  \n",
      "  ['...']\n",
      "Train for 8 steps, validate for 8 steps\n",
      "Epoch 1/22\n",
      "8/8 - 7s - loss: 4807.4834 - acc: 0.5072 - val_loss: 0.6355 - val_acc: 0.5742\n",
      "Epoch 2/22\n",
      "8/8 - 5s - loss: 55.8420 - acc: 0.5228 - val_loss: 0.6020 - val_acc: 0.9414\n",
      "Epoch 3/22\n",
      "8/8 - 5s - loss: 2.6153 - acc: 0.8254 - val_loss: 0.5969 - val_acc: 0.8359\n",
      "Epoch 4/22\n",
      "8/8 - 5s - loss: 0.1875 - acc: 0.9644 - val_loss: 0.6122 - val_acc: 0.8359\n",
      "Epoch 5/22\n",
      "8/8 - 5s - loss: 0.0403 - acc: 0.9844 - val_loss: 0.6136 - val_acc: 0.8516\n",
      "Epoch 6/22\n",
      "8/8 - 5s - loss: 19.7769 - acc: 0.7508 - val_loss: 0.6230 - val_acc: 0.9102\n",
      "Epoch 7/22\n",
      "8/8 - 5s - loss: 0.1369 - acc: 0.9511 - val_loss: 0.6416 - val_acc: 0.8711\n",
      "Epoch 8/22\n",
      "8/8 - 6s - loss: 0.0435 - acc: 0.9814 - val_loss: 0.6432 - val_acc: 0.8633\n",
      "Epoch 9/22\n",
      "8/8 - 5s - loss: 0.0225 - acc: 0.9889 - val_loss: 0.6500 - val_acc: 0.8008\n",
      "Epoch 10/22\n",
      "8/8 - 5s - loss: 0.0086 - acc: 1.0000 - val_loss: 0.6391 - val_acc: 0.8672\n",
      "Epoch 11/22\n",
      "8/8 - 5s - loss: 0.0015 - acc: 1.0000 - val_loss: 0.6342 - val_acc: 0.8711\n",
      "Epoch 12/22\n",
      "8/8 - 5s - loss: 0.0018 - acc: 1.0000 - val_loss: 0.6346 - val_acc: 0.8203\n",
      "Epoch 13/22\n",
      "8/8 - 5s - loss: 16.4040 - acc: 0.7831 - val_loss: 0.6608 - val_acc: 0.7852\n",
      "Epoch 14/22\n",
      "8/8 - 5s - loss: 0.0813 - acc: 0.9733 - val_loss: 0.6547 - val_acc: 0.8672\n",
      "Epoch 15/22\n",
      "8/8 - 5s - loss: 0.0273 - acc: 0.9944 - val_loss: 0.6410 - val_acc: 0.8516\n",
      "Epoch 16/22\n",
      "8/8 - 5s - loss: 0.0074 - acc: 0.9967 - val_loss: 0.6364 - val_acc: 0.8711\n",
      "Epoch 17/22\n",
      "8/8 - 5s - loss: 0.0037 - acc: 0.9989 - val_loss: 0.6289 - val_acc: 0.8398\n",
      "Epoch 18/22\n",
      "8/8 - 6s - loss: 0.0019 - acc: 0.9990 - val_loss: 0.6260 - val_acc: 0.8359\n",
      "Epoch 19/22\n",
      "8/8 - 5s - loss: 1.7974e-04 - acc: 1.0000 - val_loss: 0.6201 - val_acc: 0.8398\n",
      "Epoch 20/22\n",
      "8/8 - 5s - loss: 8.2196e-05 - acc: 1.0000 - val_loss: 0.6148 - val_acc: 0.8516\n",
      "Epoch 21/22\n",
      "8/8 - 5s - loss: 3.2199e-05 - acc: 1.0000 - val_loss: 0.6130 - val_acc: 0.8438\n",
      "Epoch 22/22\n",
      "8/8 - 5s - loss: 2.9580e-05 - acc: 1.0000 - val_loss: 0.6076 - val_acc: 0.8516\n"
     ]
    }
   ],
   "source": [
    "history = model.fit_generator(train_generator,\n",
    "                             steps_per_epoch=8,\n",
    "                             epochs=22,\n",
    "                             validation_data=validation_generator,\n",
    "                             validation_steps=8,\n",
    "                             verbose=2)"
   ]
  },
  {
   "cell_type": "markdown",
   "metadata": {},
   "source": [
    "### Plot Model"
   ]
  },
  {
   "cell_type": "code",
   "execution_count": 10,
   "metadata": {},
   "outputs": [
    {
     "name": "stdout",
     "output_type": "stream",
     "text": [
      "dict_keys(['loss', 'acc', 'val_loss', 'val_acc'])\n"
     ]
    }
   ],
   "source": [
    "print(history.history.keys())"
   ]
  },
  {
   "cell_type": "code",
   "execution_count": 11,
   "metadata": {},
   "outputs": [
    {
     "data": {
      "image/png": "[encoded data removed]",
      "text/plain": [
       "<Figure size 432x288 with 1 Axes>"
      ]
     },
     "metadata": {
      "needs_background": "light"
     },
     "output_type": "display_data"
    },
    {
     "data": {
      "image/png": "[encoded data removed]",
      "text/plain": [
       "<Figure size 432x288 with 1 Axes>"
      ]
     },
     "metadata": {
      "needs_background": "light"
     },
     "output_type": "display_data"
    }
   ],
   "source": [
    "# summarize history for accuracy\n",
    "plt.plot(history.history['acc'])\n",
    "plt.plot(history.history['val_acc'])\n",
    "plt.title('model accuracy')\n",
    "plt.ylabel('accuracy')\n",
    "plt.xlabel('epoch')\n",
    "plt.legend(['train', 'test'], loc='upper left')\n",
    "plt.show()\n",
    "# summarize history for loss\n",
    "plt.plot(history.history['loss'])\n",
    "plt.plot(history.history['val_loss'])\n",
    "plt.title('model loss')\n",
    "plt.ylabel('loss')\n",
    "plt.xlabel('epoch')\n",
    "plt.legend(['train', 'test'], loc='upper left')\n",
    "plt.show()"
   ]
  },
  {
   "cell_type": "markdown",
   "metadata": {},
   "source": [
    "### Predict or Evaluate Model"
   ]
  },
  {
   "cell_type": "code",
   "execution_count": 12,
   "metadata": {},
   "outputs": [
    {
     "name": "stdout",
     "output_type": "stream",
     "text": [
      "WARNING:tensorflow:sample_weight modes were coerced from\n",
      "  ...\n",
      "    to  \n",
      "  ['...']\n",
      "8/8 [==============================] - 1s 76ms/step - loss: 0.6076 - acc: 0.8516\n"
     ]
    },
    {
     "data": {
      "text/plain": [
       "[0.6075743138790131, 0.8515625]"
      ]
     },
     "execution_count": 12,
     "metadata": {},
     "output_type": "execute_result"
    }
   ],
   "source": [
    "model.evaluate(validation_generator)"
   ]
  }
 ],
 "metadata": {
  "kernelspec": {
   "display_name": "Python 3",
   "language": "python",
   "name": "python3"
  },
  "language_info": {
   "codemirror_mode": {
    "name": "ipython",
    "version": 3
   },
   "file_extension": ".py",
   "mimetype": "text/x-python",
   "name": "python",
   "nbconvert_exporter": "python",
   "pygments_lexer": "ipython3",
   "version": "3.7.6"
  }
 },
 "nbformat": 4,
 "nbformat_minor": 5
}
